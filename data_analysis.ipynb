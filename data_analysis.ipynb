{
 "cells": [
  {
   "cell_type": "code",
   "execution_count": 30,
   "id": "8ab1e297",
   "metadata": {},
   "outputs": [],
   "source": [
    "import pandas as pd\n",
    "import numpy as np\n",
    "import re"
   ]
  },
  {
   "cell_type": "code",
   "execution_count": 47,
   "id": "0299edc8",
   "metadata": {},
   "outputs": [],
   "source": [
    "def parse_time_str(s: str) -> list[float]:\n",
    "    pattern = r\":(\\d+\\.?\\d*)\"\n",
    "    numbers = re.findall(pattern, s)\n",
    "    # convert to float\n",
    "    result = [float(num) for num in numbers]\n",
    "    return result\n",
    "def parse_time_series(s):\n",
    "    # convert to float\n",
    "    return np.array(parse_time_str(s), dtype=np.float64)"
   ]
  },
  {
   "cell_type": "code",
   "execution_count": 20,
   "id": "0c15748b",
   "metadata": {},
   "outputs": [
    {
     "data": {
      "text/html": [
       "<div>\n",
       "<style scoped>\n",
       "    .dataframe tbody tr th:only-of-type {\n",
       "        vertical-align: middle;\n",
       "    }\n",
       "\n",
       "    .dataframe tbody tr th {\n",
       "        vertical-align: top;\n",
       "    }\n",
       "\n",
       "    .dataframe thead th {\n",
       "        text-align: right;\n",
       "    }\n",
       "</style>\n",
       "<table border=\"1\" class=\"dataframe\">\n",
       "  <thead>\n",
       "    <tr style=\"text-align: right;\">\n",
       "      <th></th>\n",
       "      <th>name</th>\n",
       "      <th>repository</th>\n",
       "      <th>dirname</th>\n",
       "      <th>valid_proj</th>\n",
       "      <th>build_success</th>\n",
       "      <th>normal_build_time</th>\n",
       "      <th>ffi_checker_success</th>\n",
       "      <th>ffi_checker_build_time</th>\n",
       "      <th>ffi_checker_analysis_time</th>\n",
       "    </tr>\n",
       "  </thead>\n",
       "  <tbody>\n",
       "    <tr>\n",
       "      <th>0</th>\n",
       "      <td>socket2</td>\n",
       "      <td>https://github.com/rust-lang/socket2</td>\n",
       "      <td>socket2</td>\n",
       "      <td>False</td>\n",
       "      <td>True</td>\n",
       "      <td>real_time:1.12s, user_time:1.03s, sys_time:0.40s</td>\n",
       "      <td>True</td>\n",
       "      <td>real_time:1.72s, user_time:1.29s, sys_time:0.49s</td>\n",
       "      <td>NaN</td>\n",
       "    </tr>\n",
       "    <tr>\n",
       "      <th>1</th>\n",
       "      <td>flate2</td>\n",
       "      <td>https://github.com/rust-lang/flate2-rs</td>\n",
       "      <td>flate2-rs</td>\n",
       "      <td>False</td>\n",
       "      <td>True</td>\n",
       "      <td>real_time:0.87s, user_time:1.28s, sys_time:0.37s</td>\n",
       "      <td>True</td>\n",
       "      <td>real_time:1.27s, user_time:1.45s, sys_time:0.43s</td>\n",
       "      <td>NaN</td>\n",
       "    </tr>\n",
       "    <tr>\n",
       "      <th>2</th>\n",
       "      <td>libloading</td>\n",
       "      <td>https://github.com/nagisa/rust_libloading</td>\n",
       "      <td>rust_libloading</td>\n",
       "      <td>True</td>\n",
       "      <td>True</td>\n",
       "      <td>real_time:0.31s, user_time:0.20s, sys_time:0.17s</td>\n",
       "      <td>True</td>\n",
       "      <td>real_time:0.52s, user_time:0.32s, sys_time:0.19s</td>\n",
       "      <td>NaN</td>\n",
       "    </tr>\n",
       "    <tr>\n",
       "      <th>3</th>\n",
       "      <td>openssl</td>\n",
       "      <td>https://github.com/sfackler/rust-openssl</td>\n",
       "      <td>rust-openssl</td>\n",
       "      <td>False</td>\n",
       "      <td>False</td>\n",
       "      <td>NaN</td>\n",
       "      <td>False</td>\n",
       "      <td>NaN</td>\n",
       "      <td>NaN</td>\n",
       "    </tr>\n",
       "    <tr>\n",
       "      <th>4</th>\n",
       "      <td>zstd-safe</td>\n",
       "      <td>https://github.com/gyscos/zstd-rs</td>\n",
       "      <td>zstd-rs</td>\n",
       "      <td>True</td>\n",
       "      <td>True</td>\n",
       "      <td>real_time:6.30s, user_time:12.50s, sys_time:2.50s</td>\n",
       "      <td>True</td>\n",
       "      <td>real_time:9.00s, user_time:13.50s, sys_time:2.97s</td>\n",
       "      <td>NaN</td>\n",
       "    </tr>\n",
       "  </tbody>\n",
       "</table>\n",
       "</div>"
      ],
      "text/plain": [
       "         name                                 repository          dirname  \\\n",
       "0     socket2       https://github.com/rust-lang/socket2          socket2   \n",
       "1      flate2     https://github.com/rust-lang/flate2-rs        flate2-rs   \n",
       "2  libloading  https://github.com/nagisa/rust_libloading  rust_libloading   \n",
       "3     openssl   https://github.com/sfackler/rust-openssl     rust-openssl   \n",
       "4   zstd-safe          https://github.com/gyscos/zstd-rs          zstd-rs   \n",
       "\n",
       "   valid_proj  build_success  \\\n",
       "0       False           True   \n",
       "1       False           True   \n",
       "2        True           True   \n",
       "3       False          False   \n",
       "4        True           True   \n",
       "\n",
       "                                   normal_build_time  ffi_checker_success  \\\n",
       "0   real_time:1.12s, user_time:1.03s, sys_time:0.40s                 True   \n",
       "1   real_time:0.87s, user_time:1.28s, sys_time:0.37s                 True   \n",
       "2   real_time:0.31s, user_time:0.20s, sys_time:0.17s                 True   \n",
       "3                                                NaN                False   \n",
       "4  real_time:6.30s, user_time:12.50s, sys_time:2.50s                 True   \n",
       "\n",
       "                              ffi_checker_build_time  \\\n",
       "0   real_time:1.72s, user_time:1.29s, sys_time:0.49s   \n",
       "1   real_time:1.27s, user_time:1.45s, sys_time:0.43s   \n",
       "2   real_time:0.52s, user_time:0.32s, sys_time:0.19s   \n",
       "3                                                NaN   \n",
       "4  real_time:9.00s, user_time:13.50s, sys_time:2.97s   \n",
       "\n",
       "   ffi_checker_analysis_time  \n",
       "0                        NaN  \n",
       "1                        NaN  \n",
       "2                        NaN  \n",
       "3                        NaN  \n",
       "4                        NaN  "
      ]
     },
     "execution_count": 20,
     "metadata": {},
     "output_type": "execute_result"
    }
   ],
   "source": [
    "df = pd.read_csv('result.csv')\n",
    "df.head()"
   ]
  },
  {
   "cell_type": "code",
   "execution_count": 21,
   "id": "96ad2941",
   "metadata": {},
   "outputs": [
    {
     "data": {
      "text/plain": [
       "np.int64(124)"
      ]
     },
     "execution_count": 21,
     "metadata": {},
     "output_type": "execute_result"
    }
   ],
   "source": [
    "build_success_cnt = df[df[\"build_success\"] == True]['build_success'].sum()\n",
    "build_success_cnt"
   ]
  },
  {
   "cell_type": "code",
   "execution_count": 22,
   "id": "dc97b7f5",
   "metadata": {},
   "outputs": [
    {
     "data": {
      "text/plain": [
       "np.int64(124)"
      ]
     },
     "execution_count": 22,
     "metadata": {},
     "output_type": "execute_result"
    }
   ],
   "source": [
    "ffi_success_cnt = df[df[\"ffi_checker_success\"] == True]['ffi_checker_success'].sum()\n",
    "ffi_success_cnt"
   ]
  },
  {
   "cell_type": "code",
   "execution_count": 23,
   "id": "cd250e60",
   "metadata": {},
   "outputs": [
    {
     "data": {
      "text/plain": [
       "np.int64(28)"
      ]
     },
     "execution_count": 23,
     "metadata": {},
     "output_type": "execute_result"
    }
   ],
   "source": [
    "valid_cnt = df[df[\"valid_proj\"] == True]['valid_proj'].sum()\n",
    "valid_cnt"
   ]
  },
  {
   "cell_type": "code",
   "execution_count": 51,
   "id": "180cbff6",
   "metadata": {},
   "outputs": [
    {
     "data": {
      "text/plain": [
       "array([1617.83, 4074.86,  738.88])"
      ]
     },
     "execution_count": 51,
     "metadata": {},
     "output_type": "execute_result"
    }
   ],
   "source": [
    "normal_build_times = df[df['normal_build_time'].notna()][\"normal_build_time\"].apply(parse_time_series)\n",
    "build_time_sum = normal_build_times.sum(axis=0)\n",
    "build_time_sum"
   ]
  },
  {
   "cell_type": "code",
   "execution_count": 52,
   "id": "1255bcad",
   "metadata": {},
   "outputs": [
    {
     "data": {
      "text/plain": [
       "array([2228.09, 5212.66,  944.14])"
      ]
     },
     "execution_count": 52,
     "metadata": {},
     "output_type": "execute_result"
    }
   ],
   "source": [
    "ffi_checker_build_times = df[df['ffi_checker_build_time'].notna()][\"ffi_checker_build_time\"].apply(parse_time_series)\n",
    "gen_ir_time_sum = ffi_checker_build_times.sum(axis=0)\n",
    "gen_ir_time_sum"
   ]
  },
  {
   "cell_type": "code",
   "execution_count": 53,
   "id": "5dbd8179",
   "metadata": {},
   "outputs": [
    {
     "data": {
      "text/plain": [
       "array([37.72089775, 27.92243169, 27.77988307])"
      ]
     },
     "execution_count": 53,
     "metadata": {},
     "output_type": "execute_result"
    }
   ],
   "source": [
    "(gen_ir_time_sum - build_time_sum) / build_time_sum * 100"
   ]
  },
  {
   "cell_type": "markdown",
   "id": "db06ade8",
   "metadata": {},
   "source": [
    "使用FFI Checker功能额外带来的编译时间开销为 real_time: 37.72% user_time: 27.92% sys_time: 27.78%"
   ]
  },
  {
   "cell_type": "code",
   "execution_count": null,
   "id": "e6eb5367",
   "metadata": {},
   "outputs": [],
   "source": []
  }
 ],
 "metadata": {
  "kernelspec": {
   "display_name": "ffi_eval",
   "language": "python",
   "name": "python3"
  },
  "language_info": {
   "codemirror_mode": {
    "name": "ipython",
    "version": 3
   },
   "file_extension": ".py",
   "mimetype": "text/x-python",
   "name": "python",
   "nbconvert_exporter": "python",
   "pygments_lexer": "ipython3",
   "version": "3.13.2"
  }
 },
 "nbformat": 4,
 "nbformat_minor": 5
}
